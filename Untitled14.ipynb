{
  "nbformat": 4,
  "nbformat_minor": 0,
  "metadata": {
    "colab": {
      "provenance": [],
      "authorship_tag": "ABX9TyMf92t0pba7BDRJFEiEh8pe",
      "include_colab_link": true
    },
    "kernelspec": {
      "name": "python3",
      "display_name": "Python 3"
    },
    "language_info": {
      "name": "python"
    }
  },
  "cells": [
    {
      "cell_type": "markdown",
      "metadata": {
        "id": "view-in-github",
        "colab_type": "text"
      },
      "source": [
        "<a href=\"https://colab.research.google.com/github/Shivani11032006/codes/blob/main/Untitled14.ipynb\" target=\"_parent\"><img src=\"https://colab.research.google.com/assets/colab-badge.svg\" alt=\"Open In Colab\"/></a>"
      ]
    },
    {
      "cell_type": "code",
      "execution_count": 3,
      "metadata": {
        "colab": {
          "base_uri": "https://localhost:8080/"
        },
        "id": "DALPdWoiVxyC",
        "outputId": "2c81d384-2187-4adc-db82-db4c61d5bea0"
      },
      "outputs": [
        {
          "output_type": "stream",
          "name": "stdout",
          "text": [
            "Original DataFrame:\n",
            "   customer_id  gender subscription_status\n",
            "0            1    Male              Active\n",
            "1            2  Female            Inactive\n",
            "2            3  Female              Active\n",
            "3            4    Male            Inactive\n",
            "\n",
            "DataFrame After Label Encoding:\n",
            "   customer_id  gender subscription_status  gender_encoded  \\\n",
            "0            1    Male              Active               1   \n",
            "1            2  Female            Inactive               0   \n",
            "2            3  Female              Active               0   \n",
            "3            4    Male            Inactive               1   \n",
            "\n",
            "   subscription_status_encoded  \n",
            "0                            0  \n",
            "1                            1  \n",
            "2                            0  \n",
            "3                            1  \n"
          ]
        }
      ],
      "source": [
        "import pandas as pd\n",
        "from sklearn.preprocessing import LabelEncoder\n",
        "\n",
        "data = {\n",
        "    \"customer_id\": [1, 2, 3, 4],\n",
        "    \"gender\": [\"Male\",\"Female\",\"Female\",\"Male\"],\n",
        "    \"subscription_status\": [\"Active\",\"Inactive\",\"Active\",\"Inactive\"]\n",
        "}\n",
        "df = pd.DataFrame(data)\n",
        "print(\"Original DataFrame:\")\n",
        "print(df)\n",
        "\n",
        "label_encoder = LabelEncoder()\n",
        "\n",
        "df['gender_encoded'] = label_encoder.fit_transform(df['gender'])\n",
        "\n",
        "df['subscription_status_encoded'] = label_encoder.fit_transform(df['subscription_status'])\n",
        "\n",
        "print(\"\\nDataFrame After Label Encoding:\")\n",
        "print(df)"
      ]
    },
    {
      "cell_type": "code",
      "source": [
        "import pandas as pd\n",
        "from sklearn.preprocessing import LabelEncoder\n",
        "\n",
        "data = {\n",
        "    \"customer_id\": [1, 2, 3, 4],\n",
        "    \"gender\": [\"Male\",\"Female\",\"Female\",\"Male\"],\n",
        "    \"city\": [\"New York\",\"London\",\"Paris\",\"Tokyo\"]\n",
        "}\n",
        "df = pd.DataFrame(data)\n",
        "print(\"Original DataFrame:\")\n",
        "print(df)\n",
        "one_hot_encoder = OneHotEncoder(sparse_output=False)\n",
        "columns_to_encode = [\"gender\", \"city\"]\n",
        "encoded_data = one_hot_encoder.fit_transform(df[columns_to_encode])\n",
        "encoded_columns = one_hot_encoder.get_feature_names_out(columns_to_encode)\n",
        "encoded_df = pd.DataFrame(encoded_data, columns=encoded_columns)\n",
        "df = pd.concat([df, encoded_df], axis=1)\n",
        "df.drop(columns=columns_to_encode, inplace=True)\n",
        "print(\"\\nDataFrame After One-Hot Encoding:\")\n",
        "print(df)\n",
        "\n"
      ],
      "metadata": {
        "colab": {
          "base_uri": "https://localhost:8080/"
        },
        "id": "6XDHdKwAbteS",
        "outputId": "b05f0abe-9113-402d-c575-2d8193cf7275"
      },
      "execution_count": 12,
      "outputs": [
        {
          "output_type": "stream",
          "name": "stdout",
          "text": [
            "Original DataFrame:\n",
            "   customer_id  gender      city\n",
            "0            1    Male  New York\n",
            "1            2  Female    London\n",
            "2            3  Female     Paris\n",
            "3            4    Male     Tokyo\n",
            "\n",
            "DataFrame After One-Hot Encoding:\n",
            "   customer_id  gender_Female  gender_Male  city_London  city_New York  \\\n",
            "0            1            0.0          1.0          0.0            1.0   \n",
            "1            2            1.0          0.0          1.0            0.0   \n",
            "2            3            1.0          0.0          0.0            0.0   \n",
            "3            4            0.0          1.0          0.0            0.0   \n",
            "\n",
            "   city_Paris  city_Tokyo  \n",
            "0         0.0         0.0  \n",
            "1         0.0         0.0  \n",
            "2         1.0         0.0  \n",
            "3         0.0         1.0  \n"
          ]
        }
      ]
    },
    {
      "cell_type": "code",
      "source": [
        "import pandas as pd\n",
        "from sklearn.preprocessing import OneHotEncoder\n",
        "\n",
        "# Sample dataset\n",
        "data = {\n",
        "    \"customer_id\": [1, 2, 3, 4],\n",
        "    \"gender\": [\"Male\", \"Female\", \"Female\", \"Male\"],\n",
        "    \"subscription_status\": [\"Active\", \"Inactive\", \"Active\", \"Inactive\"],\n",
        "    \"city\": [\"CityA\", \"CityB\", \"CityA\", \"CityC\"]\n",
        "}\n",
        "\n",
        "# Create a DataFrame\n",
        "df = pd.DataFrame(data)\n",
        "print(\"Original DataFrame:\")\n",
        "print(df)\n",
        "\n",
        "# Initialize OneHotEncoder\n",
        "one_hot_encoder = OneHotEncoder(sparse_output=False)\n",
        "\n",
        "# Define columns to encode\n",
        "columns_to_encode = ['gender', 'city']\n",
        "\n",
        "# Fit and transform the data\n",
        "encoded_data = one_hot_encoder.fit_transform(df[columns_to_encode])\n",
        "\n",
        "# Get encoded column names\n",
        "encoded_columns = one_hot_encoder.get_feature_names_out(columns_to_encode)\n",
        "\n",
        "# Create a DataFrame for the encoded data\n",
        "encoded_df = pd.DataFrame(encoded_data, columns=encoded_columns)\n",
        "\n",
        "# Concatenate original DataFrame with encoded data\n",
        "encoded_df_complete = pd.concat([df, encoded_df], axis=1)\n",
        "\n",
        "# Add ranking columns\n",
        "encoded_df_complete['gender_rank'] = encoded_df_complete['gender'].rank(method='average').astype(int)\n",
        "encoded_df_complete['subscription_status_rank'] = encoded_df_complete['subscription_status'].rank(method='average').astype(int)\n",
        "encoded_df_complete['city_rank'] = encoded_df_complete['city'].rank(method='average').astype(int)\n",
        "\n",
        "print(\"\\nDataFrame After One-Hot Encoding and Ranking:\")\n",
        "print(encoded_df_complete)"
      ],
      "metadata": {
        "colab": {
          "base_uri": "https://localhost:8080/"
        },
        "id": "S0QlO7L6ffWL",
        "outputId": "66ee03e3-41ea-4e73-9671-6d299c636234"
      },
      "execution_count": 10,
      "outputs": [
        {
          "output_type": "stream",
          "name": "stdout",
          "text": [
            "Original DataFrame:\n",
            "   customer_id  gender subscription_status   city\n",
            "0            1    Male              Active  CityA\n",
            "1            2  Female            Inactive  CityB\n",
            "2            3  Female              Active  CityA\n",
            "3            4    Male            Inactive  CityC\n",
            "\n",
            "DataFrame After One-Hot Encoding and Ranking:\n",
            "   customer_id  gender subscription_status   city  gender_Female  gender_Male  \\\n",
            "0            1    Male              Active  CityA            0.0          1.0   \n",
            "1            2  Female            Inactive  CityB            1.0          0.0   \n",
            "2            3  Female              Active  CityA            1.0          0.0   \n",
            "3            4    Male            Inactive  CityC            0.0          1.0   \n",
            "\n",
            "   city_CityA  city_CityB  city_CityC  gender_rank  subscription_status_rank  \\\n",
            "0         1.0         0.0         0.0            3                         1   \n",
            "1         0.0         1.0         0.0            1                         3   \n",
            "2         1.0         0.0         0.0            1                         1   \n",
            "3         0.0         0.0         1.0            3                         3   \n",
            "\n",
            "   city_rank  \n",
            "0          1  \n",
            "1          3  \n",
            "2          1  \n",
            "3          4  \n"
          ]
        }
      ]
    },
    {
      "cell_type": "code",
      "source": [
        "import pandas as pd\n",
        "from sklearn.preprocessing import OneHotEncoder\n",
        "\n",
        "# Sample dataset\n",
        "data = {\n",
        "    \"customer_id\": [1, 2, 3, 4],\n",
        "    \"gender\": [\"Male\", \"Female\", \"Female\", \"Male\"],\n",
        "    \"subscription_status\": [\"Active\", \"Inactive\", \"Active\", \"Inactive\"],\n",
        "    \"city\": [\"cityA\", \"cityB\", \"cityA\", \"cityC\"],\n",
        "    \"vegetables\": [\"potato\", \"tomato\", \"carrot\", \"brinjal\"],\n",
        "    \"fruits\": [\"apple\", \"banana\", \"orange\", \"mango\"]\n",
        "}\n",
        "\n",
        "# Create a DataFrame\n",
        "df = pd.DataFrame(data)\n",
        "print(\"Original DataFrame:\")\n",
        "print(df)\n",
        "\n",
        "# Initialize OneHotEncoder\n",
        "one_hot_encoder = OneHotEncoder(sparse_output=False)\n",
        "\n",
        "# Define columns to encode\n",
        "columns_to_encode = ['gender', 'city', 'vegetables', 'fruits']\n",
        "\n",
        "# Fit and transform the data\n",
        "encoded_data = one_hot_encoder.fit_transform(df[columns_to_encode])\n",
        "\n",
        "# Get encoded column names\n",
        "encoded_columns = one_hot_encoder.get_feature_names_out(columns_to_encode)\n",
        "\n",
        "# Create a DataFrame for the encoded data\n",
        "encoded_df = pd.DataFrame(encoded_data, columns=encoded_columns)\n",
        "\n",
        "# Concatenate original DataFrame with encoded data\n",
        "encoded_df_complete = pd.concat([df, encoded_df], axis=1)\n",
        "\n",
        "# Add ranking columns\n",
        "encoded_df_complete['gender_rank'] = encoded_df_complete['gender'].rank(method='average').astype(int)\n",
        "encoded_df_complete['subscription_status_rank'] = encoded_df_complete['subscription_status'].rank(method='average').astype(int)\n",
        "encoded_df_complete['city_rank'] = encoded_df_complete['city'].rank(method='average').astype(int)\n",
        "\n",
        "print(\"\\nDataFrame After One-Hot Encoding and Ranking:\")\n",
        "print(encoded_df_complete)"
      ],
      "metadata": {
        "colab": {
          "base_uri": "https://localhost:8080/"
        },
        "id": "iXL9oyEZgfqG",
        "outputId": "0ddd1844-2107-4316-bf26-5673dac2720b"
      },
      "execution_count": 14,
      "outputs": [
        {
          "output_type": "stream",
          "name": "stdout",
          "text": [
            "Original DataFrame:\n",
            "   customer_id  gender subscription_status   city vegetables  fruits\n",
            "0            1    Male              Active  cityA     potato   apple\n",
            "1            2  Female            Inactive  cityB     tomato  banana\n",
            "2            3  Female              Active  cityA     carrot  orange\n",
            "3            4    Male            Inactive  cityC    brinjal   mango\n",
            "\n",
            "DataFrame After One-Hot Encoding and Ranking:\n",
            "   customer_id  gender subscription_status   city vegetables  fruits  \\\n",
            "0            1    Male              Active  cityA     potato   apple   \n",
            "1            2  Female            Inactive  cityB     tomato  banana   \n",
            "2            3  Female              Active  cityA     carrot  orange   \n",
            "3            4    Male            Inactive  cityC    brinjal   mango   \n",
            "\n",
            "   gender_Female  gender_Male  city_cityA  city_cityB  ...  vegetables_carrot  \\\n",
            "0            0.0          1.0         1.0         0.0  ...                0.0   \n",
            "1            1.0          0.0         0.0         1.0  ...                0.0   \n",
            "2            1.0          0.0         1.0         0.0  ...                1.0   \n",
            "3            0.0          1.0         0.0         0.0  ...                0.0   \n",
            "\n",
            "   vegetables_potato  vegetables_tomato  fruits_apple  fruits_banana  \\\n",
            "0                1.0                0.0           1.0            0.0   \n",
            "1                0.0                1.0           0.0            1.0   \n",
            "2                0.0                0.0           0.0            0.0   \n",
            "3                0.0                0.0           0.0            0.0   \n",
            "\n",
            "   fruits_mango  fruits_orange  gender_rank  subscription_status_rank  \\\n",
            "0           0.0            0.0            3                         1   \n",
            "1           0.0            0.0            1                         3   \n",
            "2           0.0            1.0            1                         1   \n",
            "3           1.0            0.0            3                         3   \n",
            "\n",
            "   city_rank  \n",
            "0          1  \n",
            "1          3  \n",
            "2          1  \n",
            "3          4  \n",
            "\n",
            "[4 rows x 22 columns]\n"
          ]
        }
      ]
    }
  ]
}